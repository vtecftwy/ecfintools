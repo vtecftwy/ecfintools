{
 "cells": [
  {
   "cell_type": "code",
   "execution_count": null,
   "metadata": {},
   "outputs": [],
   "source": [
    "#| hide\n",
    "from myquantlab.core import *"
   ]
  },
  {
   "cell_type": "markdown",
   "metadata": {},
   "source": [
    "# myquantlab\n",
    "\n",
    "> `myquantlab` is a personal python package gathering a set of tools I used to work with financial data and quantitative finance."
   ]
  },
  {
   "cell_type": "markdown",
   "metadata": {},
   "source": [
    "This package is a work in *continuous* progress and I will keep adding new features as I develop them. \n",
    "\n",
    "These changes may break things. \n",
    "\n",
    "I will try to keep the main branch as clean as possible, but no guarantees are made 😊 !"
   ]
  },
  {
   "cell_type": "markdown",
   "metadata": {},
   "source": [
    "## Usage"
   ]
  },
  {
   "cell_type": "markdown",
   "metadata": {},
   "source": [
    "### Installation"
   ]
  },
  {
   "cell_type": "markdown",
   "metadata": {},
   "source": [
    "Install latest from the GitHub [repository][repo]:\n",
    "\n",
    "```sh\n",
    "$ pip install git+https://github.com/vtecftwy/myquantlab.git\n",
    "```\n",
    "\n",
    "Later will be possible to install from PyPI: [myquantlab][pypi] or conda [myquantlab][conda]. \n",
    "\n",
    "\n",
    "[repo]: https://github.com/vtecftwy/myquantlab\n",
    "[docs]: https://vtecftwy.github.io/myquantlab/\n",
    "[pypi]: https://pypi.org/project/myquantlab/\n",
    "[conda]: https://anaconda.org/vtecftwy/myquantlab"
   ]
  },
  {
   "cell_type": "markdown",
   "metadata": {},
   "source": [
    "### Documentation"
   ]
  },
  {
   "cell_type": "markdown",
   "metadata": {},
   "source": [
    "Documentation can be found hosted on this GitHub [repository][repo]'s [pages][docs].\n",
    "\n",
    "[repo]: https://github.com/vtecftwy/myquantlab\n",
    "[docs]: https://vtecftwy.github.io/myquantlab/\n",
    "[pypi]: https://pypi.org/project/myquantlab/\n",
    "[conda]: https://anaconda.org/vtecftwy/myquantlab"
   ]
  },
  {
   "cell_type": "markdown",
   "metadata": {},
   "source": [
    "## How to use"
   ]
  },
  {
   "cell_type": "markdown",
   "metadata": {},
   "source": [
    "Work in Progress"
   ]
  }
 ],
 "metadata": {
  "kernelspec": {
   "display_name": "python3",
   "language": "python",
   "name": "python3"
  }
 },
 "nbformat": 4,
 "nbformat_minor": 4
}
