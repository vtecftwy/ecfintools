{
 "cells": [
  {
   "cell_type": "markdown",
   "metadata": {},
   "source": [
    "# core\n",
    "\n",
    "> All core functions and classes in ecfintools"
   ]
  },
  {
   "cell_type": "code",
   "execution_count": null,
   "metadata": {},
   "outputs": [],
   "source": [
    "#| default_exp core"
   ]
  },
  {
   "cell_type": "code",
   "execution_count": null,
   "metadata": {},
   "outputs": [],
   "source": [
    "#| hide\n",
    "from eccore.ipython import nb_setup, pandas_nrows_ncols\n",
    "from nbdev.showdoc import show_doc"
   ]
  },
  {
   "cell_type": "code",
   "execution_count": null,
   "metadata": {},
   "outputs": [
    {
     "name": "stdout",
     "output_type": "stream",
     "text": [
      "Set autoreload mode\n"
     ]
    }
   ],
   "source": [
    "#| hide\n",
    "nb_setup()"
   ]
  },
  {
   "cell_type": "code",
   "execution_count": null,
   "metadata": {},
   "outputs": [],
   "source": [
    "#| export\n",
    "import re\n",
    "from datetime import datetime\n",
    "from pathlib import Path\n",
    "from typing import Optional\n",
    "\n",
    "import pandas as pd"
   ]
  },
  {
   "cell_type": "markdown",
   "metadata": {},
   "source": [
    "## Function transferred from `finutilities`"
   ]
  },
  {
   "cell_type": "code",
   "execution_count": null,
   "metadata": {},
   "outputs": [
    {
     "data": {
      "text/plain": [
       "'2024-12-15 22:14:09'"
      ]
     },
     "execution_count": null,
     "metadata": {},
     "output_type": "execute_result"
    }
   ],
   "source": [
    "datetime.now().strftime('%Y-%m-%d %H:%M:%S')"
   ]
  },
  {
   "cell_type": "code",
   "execution_count": null,
   "metadata": {},
   "outputs": [],
   "source": [
    "#| export\n",
    "def safe_date(\n",
    "    dt:str|datetime # date time to validate or convert\n",
    "    ) -> datetime:  # datetime type object\n",
    "    \"\"\"Return a datetime object from a datetime or string\n",
    "\n",
    "    Accepted formats:\n",
    "\n",
    "    - 'YYYY-MM-DD', 'YYYY/MM/DD', 'YYYY.MM.DD'\n",
    "    - 'HH:MM:SS' can be added to the above formats\n",
    "    \"\"\"\n",
    "    if isinstance(dt, datetime): return dt\n",
    "\n",
    "    elif isinstance(dt, str):\n",
    "        pattern = re.compile(r'\\d{4}(?P<sep>[-\\/\\.])\\d{2}(?P=sep)\\d{2}(?P<t>\\s?\\d{2}:\\d{2}:\\d{2})?')\n",
    "        match = pattern.search(dt)\n",
    "        if match:\n",
    "            sep = match.group('sep')\n",
    "            t = match.group('t')\n",
    "        else:\n",
    "            msg = f\"dt must be in format 'YYYY<sep>MM<sep>DD hh:mm:ss' where <sep> is one of '-/.'\"\n",
    "            raise AttributeError(msg)\n",
    "\n",
    "        str_format = f\"%Y{sep}%m{sep}%d{' %H:%M:%S' if t else ''}\"\n",
    "        return datetime.strptime(dt, str_format)"
   ]
  },
  {
   "cell_type": "markdown",
   "metadata": {},
   "source": [
    "This function converts date-time strings in the most current formats into a `datetime` object:\n",
    "- '2024-12-15 21:02:17'\n",
    "- '2024/12/15 21:02:17'\n",
    "- '2024.12.15 21:02:17'\n",
    "- '2024-12-15'\n",
    "- '2024/12/15'\n",
    "- '2024.12.15'\n",
    "\n",
    "The function also can be used to validate datetimes in general as it also accepts a datetime as argument."
   ]
  },
  {
   "cell_type": "code",
   "execution_count": null,
   "metadata": {},
   "outputs": [],
   "source": [
    "assert isinstance(safe_date('2024-12-15 21:02:17'), datetime)\n",
    "assert isinstance(safe_date('2024/12/15 21:02:17'), datetime)\n",
    "assert isinstance(safe_date('2024.12.15 21:02:17'), datetime)\n",
    "assert isinstance(safe_date('2024-12-15'), datetime)\n",
    "assert isinstance(safe_date('2024/12/15'), datetime)\n",
    "assert isinstance(safe_date('2024.12.15'), datetime)\n",
    "assert isinstance(safe_date(datetime.now()), datetime)"
   ]
  },
  {
   "cell_type": "code",
   "execution_count": null,
   "metadata": {},
   "outputs": [],
   "source": [
    "#| export\n",
    "def df_safe_sampling(\n",
    "    df:pd.DataFrame,                        # df that will be sampled\n",
    "    first:Optional[str|datetime] = None,    # first date to be included\n",
    "    last:Optional[str|datetime] = None      # last date to be included\n",
    "    ) -> pd.DataFrame:                      # sampled df\n",
    "    \"\"\"Sample a DataFrame from first to last, or the closest dates available in df.index.\"\"\"\n",
    "\n",
    "    if not isinstance(df.index, pd.DatetimeIndex):\n",
    "        raise AttributeError(\"df.index must be a DatetimeIndex\")\n",
    "\n",
    "    earliest, latest = df.index[0], df.index[-1]\n",
    "    if first is None: first = earliest\n",
    "    if last is None:  last = latest\n",
    "    first, last = safe_date(first), safe_date(last)\n",
    "    if first > last:\n",
    "        msg = f\"first ({first:%Y-%m-%d}) not before last ({last:%Y-%m-%d})\"\n",
    "        raise AttributeError(msg)\n",
    "\n",
    "    sampled = df.loc[max(first, earliest):min(last, latest), :].copy()\n",
    "    return sampled"
   ]
  },
  {
   "cell_type": "markdown",
   "metadata": {},
   "source": [
    "With this function, even if we set dates that are not in the datatrane `DateTimeIndex`, we will still be able to get the closest sampled rows.\n",
    "\n",
    "In the example below, the DataFrame misses a few days, e.g.:\n",
    "- 2018-10-27 and 2018-10-28\n",
    "- 2018-11-03 and 2018-11-04"
   ]
  },
  {
   "cell_type": "markdown",
   "metadata": {},
   "source": [
    "If we pick one of these dates for `first` and `last` respectively, we still get a sampled dataframe with the closed existing dates."
   ]
  },
  {
   "cell_type": "code",
   "execution_count": null,
   "metadata": {},
   "outputs": [
    {
     "data": {
      "text/html": [
       "<div>\n",
       "<style scoped>\n",
       "    .dataframe tbody tr th:only-of-type {\n",
       "        vertical-align: middle;\n",
       "    }\n",
       "\n",
       "    .dataframe tbody tr th {\n",
       "        vertical-align: top;\n",
       "    }\n",
       "\n",
       "    .dataframe thead th {\n",
       "        text-align: right;\n",
       "    }\n",
       "</style>\n",
       "<table border=\"1\" class=\"dataframe\">\n",
       "  <thead>\n",
       "    <tr style=\"text-align: right;\">\n",
       "      <th></th>\n",
       "      <th>o</th>\n",
       "      <th>h</th>\n",
       "      <th>l</th>\n",
       "      <th>c</th>\n",
       "      <th>v</th>\n",
       "    </tr>\n",
       "    <tr>\n",
       "      <th>dt</th>\n",
       "      <th></th>\n",
       "      <th></th>\n",
       "      <th></th>\n",
       "      <th></th>\n",
       "      <th></th>\n",
       "    </tr>\n",
       "  </thead>\n",
       "  <tbody>\n",
       "    <tr>\n",
       "      <th>2018-10-22</th>\n",
       "      <td>2759.02</td>\n",
       "      <td>2779.27</td>\n",
       "      <td>2747.27</td>\n",
       "      <td>2754.48</td>\n",
       "      <td>26562</td>\n",
       "    </tr>\n",
       "    <tr>\n",
       "      <th>2018-10-23</th>\n",
       "      <td>2753.11</td>\n",
       "      <td>2755.36</td>\n",
       "      <td>2690.69</td>\n",
       "      <td>2743.45</td>\n",
       "      <td>38777</td>\n",
       "    </tr>\n",
       "    <tr>\n",
       "      <th>2018-10-24</th>\n",
       "      <td>2744.83</td>\n",
       "      <td>2748.58</td>\n",
       "      <td>2651.23</td>\n",
       "      <td>2672.80</td>\n",
       "      <td>41777</td>\n",
       "    </tr>\n",
       "    <tr>\n",
       "      <th>2018-10-25</th>\n",
       "      <td>2670.80</td>\n",
       "      <td>2722.90</td>\n",
       "      <td>2657.93</td>\n",
       "      <td>2680.71</td>\n",
       "      <td>39034</td>\n",
       "    </tr>\n",
       "    <tr>\n",
       "      <th>2018-10-26</th>\n",
       "      <td>2675.59</td>\n",
       "      <td>2692.34</td>\n",
       "      <td>2627.59</td>\n",
       "      <td>2663.57</td>\n",
       "      <td>61436</td>\n",
       "    </tr>\n",
       "    <tr>\n",
       "      <th>2018-10-29</th>\n",
       "      <td>2667.70</td>\n",
       "      <td>2707.00</td>\n",
       "      <td>2603.33</td>\n",
       "      <td>2639.17</td>\n",
       "      <td>44960</td>\n",
       "    </tr>\n",
       "    <tr>\n",
       "      <th>2018-10-30</th>\n",
       "      <td>2639.55</td>\n",
       "      <td>2689.50</td>\n",
       "      <td>2633.05</td>\n",
       "      <td>2688.50</td>\n",
       "      <td>52786</td>\n",
       "    </tr>\n",
       "    <tr>\n",
       "      <th>2018-10-31</th>\n",
       "      <td>2688.88</td>\n",
       "      <td>2736.76</td>\n",
       "      <td>2681.25</td>\n",
       "      <td>2704.75</td>\n",
       "      <td>32374</td>\n",
       "    </tr>\n",
       "    <tr>\n",
       "      <th>2018-11-01</th>\n",
       "      <td>2707.13</td>\n",
       "      <td>2741.58</td>\n",
       "      <td>2706.88</td>\n",
       "      <td>2731.90</td>\n",
       "      <td>29565</td>\n",
       "    </tr>\n",
       "    <tr>\n",
       "      <th>2018-11-02</th>\n",
       "      <td>2725.28</td>\n",
       "      <td>2766.28</td>\n",
       "      <td>2699.96</td>\n",
       "      <td>2723.76</td>\n",
       "      <td>41892</td>\n",
       "    </tr>\n",
       "    <tr>\n",
       "      <th>2018-11-05</th>\n",
       "      <td>2721.51</td>\n",
       "      <td>2744.41</td>\n",
       "      <td>2713.14</td>\n",
       "      <td>2740.26</td>\n",
       "      <td>25161</td>\n",
       "    </tr>\n",
       "    <tr>\n",
       "      <th>2018-11-06</th>\n",
       "      <td>2739.39</td>\n",
       "      <td>2761.53</td>\n",
       "      <td>2730.14</td>\n",
       "      <td>2759.15</td>\n",
       "      <td>20481</td>\n",
       "    </tr>\n",
       "    <tr>\n",
       "      <th>2018-11-07</th>\n",
       "      <td>2757.28</td>\n",
       "      <td>2816.63</td>\n",
       "      <td>2745.53</td>\n",
       "      <td>2815.88</td>\n",
       "      <td>29723</td>\n",
       "    </tr>\n",
       "    <tr>\n",
       "      <th>2018-11-08</th>\n",
       "      <td>2814.76</td>\n",
       "      <td>2817.01</td>\n",
       "      <td>2794.68</td>\n",
       "      <td>2805.02</td>\n",
       "      <td>18369</td>\n",
       "    </tr>\n",
       "    <tr>\n",
       "      <th>2018-11-09</th>\n",
       "      <td>2803.40</td>\n",
       "      <td>2810.15</td>\n",
       "      <td>2763.78</td>\n",
       "      <td>2778.60</td>\n",
       "      <td>25123</td>\n",
       "    </tr>\n",
       "  </tbody>\n",
       "</table>\n",
       "</div>"
      ],
      "text/plain": [
       "                  o        h        l        c      v\n",
       "dt                                                   \n",
       "2018-10-22  2759.02  2779.27  2747.27  2754.48  26562\n",
       "2018-10-23  2753.11  2755.36  2690.69  2743.45  38777\n",
       "2018-10-24  2744.83  2748.58  2651.23  2672.80  41777\n",
       "2018-10-25  2670.80  2722.90  2657.93  2680.71  39034\n",
       "2018-10-26  2675.59  2692.34  2627.59  2663.57  61436\n",
       "2018-10-29  2667.70  2707.00  2603.33  2639.17  44960\n",
       "2018-10-30  2639.55  2689.50  2633.05  2688.50  52786\n",
       "2018-10-31  2688.88  2736.76  2681.25  2704.75  32374\n",
       "2018-11-01  2707.13  2741.58  2706.88  2731.90  29565\n",
       "2018-11-02  2725.28  2766.28  2699.96  2723.76  41892\n",
       "2018-11-05  2721.51  2744.41  2713.14  2740.26  25161\n",
       "2018-11-06  2739.39  2761.53  2730.14  2759.15  20481\n",
       "2018-11-07  2757.28  2816.63  2745.53  2815.88  29723\n",
       "2018-11-08  2814.76  2817.01  2794.68  2805.02  18369\n",
       "2018-11-09  2803.40  2810.15  2763.78  2778.60  25123"
      ]
     },
     "metadata": {},
     "output_type": "display_data"
    }
   ],
   "source": [
    "p2csv = Path('data-dev/ohlcv-data.csv')\n",
    "assert p2csv.is_file()\n",
    "df = pd.read_csv(p2csv, header=None, parse_dates=[[0,1]], index_col=0)\n",
    "df.columns = 'o h l c v'.split()\n",
    "df.index.name = 'dt'\n",
    "display(df.iloc[:15, :])"
   ]
  },
  {
   "cell_type": "code",
   "execution_count": null,
   "metadata": {},
   "outputs": [
    {
     "data": {
      "text/html": [
       "<div>\n",
       "<style scoped>\n",
       "    .dataframe tbody tr th:only-of-type {\n",
       "        vertical-align: middle;\n",
       "    }\n",
       "\n",
       "    .dataframe tbody tr th {\n",
       "        vertical-align: top;\n",
       "    }\n",
       "\n",
       "    .dataframe thead th {\n",
       "        text-align: right;\n",
       "    }\n",
       "</style>\n",
       "<table border=\"1\" class=\"dataframe\">\n",
       "  <thead>\n",
       "    <tr style=\"text-align: right;\">\n",
       "      <th></th>\n",
       "      <th>o</th>\n",
       "      <th>h</th>\n",
       "      <th>l</th>\n",
       "      <th>c</th>\n",
       "      <th>v</th>\n",
       "    </tr>\n",
       "    <tr>\n",
       "      <th>dt</th>\n",
       "      <th></th>\n",
       "      <th></th>\n",
       "      <th></th>\n",
       "      <th></th>\n",
       "      <th></th>\n",
       "    </tr>\n",
       "  </thead>\n",
       "  <tbody>\n",
       "    <tr>\n",
       "      <th>2018-10-29</th>\n",
       "      <td>2667.70</td>\n",
       "      <td>2707.00</td>\n",
       "      <td>2603.33</td>\n",
       "      <td>2639.17</td>\n",
       "      <td>44960</td>\n",
       "    </tr>\n",
       "    <tr>\n",
       "      <th>2018-10-30</th>\n",
       "      <td>2639.55</td>\n",
       "      <td>2689.50</td>\n",
       "      <td>2633.05</td>\n",
       "      <td>2688.50</td>\n",
       "      <td>52786</td>\n",
       "    </tr>\n",
       "    <tr>\n",
       "      <th>2018-10-31</th>\n",
       "      <td>2688.88</td>\n",
       "      <td>2736.76</td>\n",
       "      <td>2681.25</td>\n",
       "      <td>2704.75</td>\n",
       "      <td>32374</td>\n",
       "    </tr>\n",
       "    <tr>\n",
       "      <th>2018-11-01</th>\n",
       "      <td>2707.13</td>\n",
       "      <td>2741.58</td>\n",
       "      <td>2706.88</td>\n",
       "      <td>2731.90</td>\n",
       "      <td>29565</td>\n",
       "    </tr>\n",
       "    <tr>\n",
       "      <th>2018-11-02</th>\n",
       "      <td>2725.28</td>\n",
       "      <td>2766.28</td>\n",
       "      <td>2699.96</td>\n",
       "      <td>2723.76</td>\n",
       "      <td>41892</td>\n",
       "    </tr>\n",
       "  </tbody>\n",
       "</table>\n",
       "</div>"
      ],
      "text/plain": [
       "                  o        h        l        c      v\n",
       "dt                                                   \n",
       "2018-10-29  2667.70  2707.00  2603.33  2639.17  44960\n",
       "2018-10-30  2639.55  2689.50  2633.05  2688.50  52786\n",
       "2018-10-31  2688.88  2736.76  2681.25  2704.75  32374\n",
       "2018-11-01  2707.13  2741.58  2706.88  2731.90  29565\n",
       "2018-11-02  2725.28  2766.28  2699.96  2723.76  41892"
      ]
     },
     "execution_count": null,
     "metadata": {},
     "output_type": "execute_result"
    }
   ],
   "source": [
    "df_safe_sampling(df, '2018-10-27', '2018-11-04')"
   ]
  },
  {
   "cell_type": "code",
   "execution_count": null,
   "metadata": {},
   "outputs": [],
   "source": [
    "#| hide\n",
    "import nbdev; nbdev.nbdev_export()"
   ]
  }
 ],
 "metadata": {
  "kernelspec": {
   "display_name": "python3",
   "language": "python",
   "name": "python3"
  }
 },
 "nbformat": 4,
 "nbformat_minor": 4
}
